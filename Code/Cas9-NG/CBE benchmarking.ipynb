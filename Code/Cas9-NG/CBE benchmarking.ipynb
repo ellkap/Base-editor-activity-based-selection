{
 "cells": [
  {
   "cell_type": "markdown",
   "id": "bf28baa9",
   "metadata": {},
   "source": [
    "This notebook analyzes the performance of different CBEs and Cas9 varieties."
   ]
  },
  {
   "cell_type": "code",
   "execution_count": 35,
   "id": "44ec46ff",
   "metadata": {},
   "outputs": [],
   "source": [
    "#importing packages\n",
    "import pandas as pd\n",
    "from poola import core as pool\n",
    "import seaborn as sns\n",
    "import gpplot\n",
    "import matplotlib.pyplot as plt\n",
    "import matplotlib as mpl\n",
    "import numpy as np\n",
    "import gpplot as gpp\n",
    "from itertools import product\n",
    "\n",
    "gpp.set_aesthetics()"
   ]
  },
  {
   "cell_type": "code",
   "execution_count": 36,
   "id": "46a63ba6",
   "metadata": {},
   "outputs": [],
   "source": [
    "NG_SpG = pd.read_excel(\"../../required_data/Cas9-NG/CBE benchmarking.xlsx\", sheet_name='NG vs. SpG')\n",
    "CBEs = pd.read_excel(\"../../required_data/Cas9-NG/CBE benchmarking.xlsx\", sheet_name='CBEs')\n",
    "TadCBEd = pd.read_excel(\"../../required_data/Cas9-NG/CBE benchmarking.xlsx\", sheet_name='TadCBEd')"
   ]
  },
  {
   "cell_type": "code",
   "execution_count": 37,
   "id": "487a81d0-5978-4f4c-93c9-0e91d6d7b1ff",
   "metadata": {},
   "outputs": [
    {
     "data": {
      "text/plain": [
       "Condition\n",
       "A549 flow         6\n",
       "A549 Sanger       6\n",
       "Meljuso flow      6\n",
       "Meljuso Sanger    6\n",
       "Name: count, dtype: int64"
      ]
     },
     "execution_count": 37,
     "metadata": {},
     "output_type": "execute_result"
    }
   ],
   "source": [
    "CBEs[\"Condition\"].value_counts()"
   ]
  },
  {
   "cell_type": "code",
   "execution_count": 45,
   "id": "050324c7",
   "metadata": {},
   "outputs": [],
   "source": [
    "NG_SpG = NG_SpG[NG_SpG['Construct'].str.count('NIC')==0].reset_index(drop=True)#new line laura "
   ]
  },
  {
   "cell_type": "markdown",
   "id": "eb32f744",
   "metadata": {},
   "source": [
    "### Cas9-NG vs. Cas9-SpG + TadCBEd/APOBEC"
   ]
  },
  {
   "cell_type": "code",
   "execution_count": 39,
   "id": "2ed62c1c",
   "metadata": {},
   "outputs": [
    {
     "data": {
      "image/png": "[encoded data removed]",
      "text/plain": [
       "<Figure size 500x400 with 1 Axes>"
      ]
     },
     "metadata": {},
     "output_type": "display_data"
    }
   ],
   "source": [
    "fig, ax = plt.subplots()\n",
    "fig.set_size_inches(5,4)\n",
    "\n",
    "colors = {'Meljuso':'tomato', \"A549\": 'royalblue'}\n",
    "ax = sns.barplot(data=NG_SpG, x=\"Construct\", y=\"GFP-\", hue='Cell line', palette=colors)\n",
    "ax.set_ylim(0,30)\n",
    "ax.set_xticks(ticks=[0,1,2,3],\n",
    "               labels=[\"Cas9-SpG\\nTadCBEd\",'Cas9-SpG\\nrAPOBEC', \"Cas9-NG\\nTadCBEd\",'Cas9-NG\\nrAPOBEC'])\n",
    "ax.set_ylabel(\"% editing at GFP locus\")\n",
    "sns.move_legend(\n",
    "    ax, \"lower center\",\n",
    "    bbox_to_anchor=(0.5, 0.97), ncol=2, title='', frameon=False,\n",
    ")\n",
    "\n",
    "ax.set_xlabel(\"\")\n",
    "ax.set_title(\"NG-Cas9 vs. SpG-Cas9 CBEs\",y=1.1)\n",
    "sns.despine()"
   ]
  },
  {
   "cell_type": "markdown",
   "id": "601ba344",
   "metadata": {},
   "source": [
    "### CBE benchmarking"
   ]
  },
  {
   "cell_type": "code",
   "execution_count": 40,
   "id": "43eff726",
   "metadata": {},
   "outputs": [],
   "source": [
    "flow_only = CBEs[CBEs['Condition'].str.count('flow')>0].reset_index(drop=True)# new line laura \n",
    "flow_only.replace(\"A549 flow\", \"A549\", inplace=True)\n",
    "flow_only.replace(\"Meljuso flow\", \"Meljuso\", inplace=True)"
   ]
  },
  {
   "cell_type": "code",
   "execution_count": 41,
   "id": "7d642e54-35ae-47a0-a6e1-ee6af31cfa28",
   "metadata": {},
   "outputs": [
    {
     "data": {
      "text/html": [
       "<div>\n",
       "<style scoped>\n",
       "    .dataframe tbody tr th:only-of-type {\n",
       "        vertical-align: middle;\n",
       "    }\n",
       "\n",
       "    .dataframe tbody tr th {\n",
       "        vertical-align: top;\n",
       "    }\n",
       "\n",
       "    .dataframe thead th {\n",
       "        text-align: right;\n",
       "    }\n",
       "</style>\n",
       "<table border=\"1\" class=\"dataframe\">\n",
       "  <thead>\n",
       "    <tr style=\"text-align: right;\">\n",
       "      <th></th>\n",
       "      <th>Construct</th>\n",
       "      <th>% GFP-</th>\n",
       "      <th>Condition</th>\n",
       "    </tr>\n",
       "  </thead>\n",
       "  <tbody>\n",
       "    <tr>\n",
       "      <th>0</th>\n",
       "      <td>Liu CBE</td>\n",
       "      <td>19.400</td>\n",
       "      <td>A549 flow</td>\n",
       "    </tr>\n",
       "    <tr>\n",
       "      <th>1</th>\n",
       "      <td>Liu DE</td>\n",
       "      <td>14.700</td>\n",
       "      <td>A549 flow</td>\n",
       "    </tr>\n",
       "    <tr>\n",
       "      <th>2</th>\n",
       "      <td>Li CBE</td>\n",
       "      <td>11.500</td>\n",
       "      <td>A549 flow</td>\n",
       "    </tr>\n",
       "    <tr>\n",
       "      <th>3</th>\n",
       "      <td>Li CGBE</td>\n",
       "      <td>4.800</td>\n",
       "      <td>A549 flow</td>\n",
       "    </tr>\n",
       "    <tr>\n",
       "      <th>4</th>\n",
       "      <td>Gaudelli CBE</td>\n",
       "      <td>10.600</td>\n",
       "      <td>A549 flow</td>\n",
       "    </tr>\n",
       "    <tr>\n",
       "      <th>5</th>\n",
       "      <td>Gaudelli DE</td>\n",
       "      <td>11.800</td>\n",
       "      <td>A549 flow</td>\n",
       "    </tr>\n",
       "    <tr>\n",
       "      <th>6</th>\n",
       "      <td>Liu CBE</td>\n",
       "      <td>19.800</td>\n",
       "      <td>A549 Sanger</td>\n",
       "    </tr>\n",
       "    <tr>\n",
       "      <th>7</th>\n",
       "      <td>Liu DE</td>\n",
       "      <td>12.510</td>\n",
       "      <td>A549 Sanger</td>\n",
       "    </tr>\n",
       "    <tr>\n",
       "      <th>8</th>\n",
       "      <td>Li CBE</td>\n",
       "      <td>10.075</td>\n",
       "      <td>A549 Sanger</td>\n",
       "    </tr>\n",
       "    <tr>\n",
       "      <th>9</th>\n",
       "      <td>Li CGBE</td>\n",
       "      <td>14.375</td>\n",
       "      <td>A549 Sanger</td>\n",
       "    </tr>\n",
       "    <tr>\n",
       "      <th>10</th>\n",
       "      <td>Gaudelli CBE</td>\n",
       "      <td>12.610</td>\n",
       "      <td>A549 Sanger</td>\n",
       "    </tr>\n",
       "    <tr>\n",
       "      <th>11</th>\n",
       "      <td>Gaudelli DE</td>\n",
       "      <td>9.405</td>\n",
       "      <td>A549 Sanger</td>\n",
       "    </tr>\n",
       "    <tr>\n",
       "      <th>12</th>\n",
       "      <td>Liu CBE</td>\n",
       "      <td>23.200</td>\n",
       "      <td>Meljuso flow</td>\n",
       "    </tr>\n",
       "    <tr>\n",
       "      <th>13</th>\n",
       "      <td>Liu DE</td>\n",
       "      <td>10.500</td>\n",
       "      <td>Meljuso flow</td>\n",
       "    </tr>\n",
       "    <tr>\n",
       "      <th>14</th>\n",
       "      <td>Li CBE</td>\n",
       "      <td>7.990</td>\n",
       "      <td>Meljuso flow</td>\n",
       "    </tr>\n",
       "    <tr>\n",
       "      <th>15</th>\n",
       "      <td>Li CGBE</td>\n",
       "      <td>3.600</td>\n",
       "      <td>Meljuso flow</td>\n",
       "    </tr>\n",
       "    <tr>\n",
       "      <th>16</th>\n",
       "      <td>Gaudelli CBE</td>\n",
       "      <td>13.500</td>\n",
       "      <td>Meljuso flow</td>\n",
       "    </tr>\n",
       "    <tr>\n",
       "      <th>17</th>\n",
       "      <td>Gaudelli DE</td>\n",
       "      <td>7.200</td>\n",
       "      <td>Meljuso flow</td>\n",
       "    </tr>\n",
       "    <tr>\n",
       "      <th>18</th>\n",
       "      <td>Liu CBE</td>\n",
       "      <td>30.105</td>\n",
       "      <td>Meljuso Sanger</td>\n",
       "    </tr>\n",
       "    <tr>\n",
       "      <th>19</th>\n",
       "      <td>Liu DE</td>\n",
       "      <td>17.100</td>\n",
       "      <td>Meljuso Sanger</td>\n",
       "    </tr>\n",
       "    <tr>\n",
       "      <th>20</th>\n",
       "      <td>Li CBE</td>\n",
       "      <td>12.380</td>\n",
       "      <td>Meljuso Sanger</td>\n",
       "    </tr>\n",
       "    <tr>\n",
       "      <th>21</th>\n",
       "      <td>Li CGBE</td>\n",
       "      <td>9.600</td>\n",
       "      <td>Meljuso Sanger</td>\n",
       "    </tr>\n",
       "    <tr>\n",
       "      <th>22</th>\n",
       "      <td>Gaudelli CBE</td>\n",
       "      <td>17.595</td>\n",
       "      <td>Meljuso Sanger</td>\n",
       "    </tr>\n",
       "    <tr>\n",
       "      <th>23</th>\n",
       "      <td>Gaudelli DE</td>\n",
       "      <td>10.205</td>\n",
       "      <td>Meljuso Sanger</td>\n",
       "    </tr>\n",
       "  </tbody>\n",
       "</table>\n",
       "</div>"
      ],
      "text/plain": [
       "       Construct  % GFP-       Condition\n",
       "0        Liu CBE  19.400       A549 flow\n",
       "1         Liu DE  14.700       A549 flow\n",
       "2         Li CBE  11.500       A549 flow\n",
       "3        Li CGBE   4.800       A549 flow\n",
       "4   Gaudelli CBE  10.600       A549 flow\n",
       "5    Gaudelli DE  11.800       A549 flow\n",
       "6        Liu CBE  19.800     A549 Sanger\n",
       "7         Liu DE  12.510     A549 Sanger\n",
       "8         Li CBE  10.075     A549 Sanger\n",
       "9        Li CGBE  14.375     A549 Sanger\n",
       "10  Gaudelli CBE  12.610     A549 Sanger\n",
       "11   Gaudelli DE   9.405     A549 Sanger\n",
       "12       Liu CBE  23.200    Meljuso flow\n",
       "13        Liu DE  10.500    Meljuso flow\n",
       "14        Li CBE   7.990    Meljuso flow\n",
       "15       Li CGBE   3.600    Meljuso flow\n",
       "16  Gaudelli CBE  13.500    Meljuso flow\n",
       "17   Gaudelli DE   7.200    Meljuso flow\n",
       "18       Liu CBE  30.105  Meljuso Sanger\n",
       "19        Liu DE  17.100  Meljuso Sanger\n",
       "20        Li CBE  12.380  Meljuso Sanger\n",
       "21       Li CGBE   9.600  Meljuso Sanger\n",
       "22  Gaudelli CBE  17.595  Meljuso Sanger\n",
       "23   Gaudelli DE  10.205  Meljuso Sanger"
      ]
     },
     "execution_count": 41,
     "metadata": {},
     "output_type": "execute_result"
    }
   ],
   "source": [
    "CBEs"
   ]
  },
  {
   "cell_type": "code",
   "execution_count": 46,
   "id": "7aa84c5c",
   "metadata": {},
   "outputs": [
    {
     "data": {
      "image/png": "[encoded data removed]",
      "text/plain": [
       "<Figure size 600x200 with 1 Axes>"
      ]
     },
     "metadata": {},
     "output_type": "display_data"
    }
   ],
   "source": [
    "fig, ax = plt.subplots()\n",
    "\n",
    "fig.set_size_inches(6,2)\n",
    "\n",
    "colors = {'A549':'royalblue', 'Meljuso':'tomato'} \n",
    "ax = sns.barplot(data=flow_only, x=\"Construct\", y=\"% GFP-\", hue='Condition', palette=colors)\n",
    "ax.set_ylim(0, 30)\n",
    "ax.set_xticks(ticks=[0,1,2,3,4,5],\n",
    "               labels=['Tad-\\nCBEd','Tad-\\nDE','CBEmax', \"CGBE\",'CBE-\\nT1.52', 'CABE-\\nT3.1'])\n",
    "ax.set_ylabel(\"% editing at GFP locus\")\n",
    "sns.move_legend(\n",
    "    ax, \"lower center\",\n",
    "    bbox_to_anchor=(0.5, 0.97), ncol=2, title='', frameon=False)\n",
    "\n",
    "ax.set_xlabel(\"\")\n",
    "ax.set_title(\"Benchmarking Cas9-SpG CBE varieties\",y=1.2)\n",
    "sns.despine()"
   ]
  }
 ],
 "metadata": {
  "kernelspec": {
   "display_name": "Python 3 (ipykernel)",
   "language": "python",
   "name": "python3"
  },
  "language_info": {
   "codemirror_mode": {
    "name": "ipython",
    "version": 3
   },
   "file_extension": ".py",
   "mimetype": "text/x-python",
   "name": "python",
   "nbconvert_exporter": "python",
   "pygments_lexer": "ipython3",
   "version": "3.13.0"
  }
 },
 "nbformat": 4,
 "nbformat_minor": 5
}
